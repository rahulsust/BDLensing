{
  "nbformat": 4,
  "nbformat_minor": 0,
  "metadata": {
    "colab": {
      "provenance": [],
      "authorship_tag": "ABX9TyNuBSGVtr3YSNulsOWrA1rn",
      "include_colab_link": true
    },
    "kernelspec": {
      "name": "python3",
      "display_name": "Python 3"
    },
    "language_info": {
      "name": "python"
    }
  },
  "cells": [
    {
      "cell_type": "markdown",
      "metadata": {
        "id": "view-in-github",
        "colab_type": "text"
      },
      "source": [
        "<a href=\"https://colab.research.google.com/github/rahulsust/BDLensing/blob/main/week-0/assignments-0.ipynb\" target=\"_parent\"><img src=\"https://colab.research.google.com/assets/colab-badge.svg\" alt=\"Open In Colab\"/></a>"
      ]
    },
    {
      "cell_type": "code",
      "source": [
        "import numpy as np\n",
        "import matplotlib.pyplot as plt"
      ],
      "metadata": {
        "id": "h3ET7Qcs4chc"
      },
      "execution_count": null,
      "outputs": []
    },
    {
      "cell_type": "markdown",
      "source": [
        "1. Think about one experiment where you toss a coin for ${N}_{trial} = 200 $ times, with each toss having a 50% probability for the head. In this experiment, you count the total number of heads ${N}_{head}$. Write a python code that gives you ${N}_{head}$. This is a random number and should provide a different number if the experiment is run again. (This is the optional assignment from last week, and we worked on it during the meeting, but try to complete it if you have not already.)"
      ],
      "metadata": {
        "id": "EaAbWMdoUWCy"
      }
    },
    {
      "cell_type": "code",
      "execution_count": null,
      "metadata": {
        "id": "8LeggMzeT7D7"
      },
      "outputs": [],
      "source": [
        "\n",
        "\n",
        "p_H = 0.5\n",
        "p_T = 0.5\n",
        "N = 200\n",
        "\n",
        "    for i in range(N):\n",
        "        x = np.random.rand(1)\n",
        "        if x<= p_H:\n",
        "            heads = heads + 1\n",
        "    \n"
      ]
    },
    {
      "cell_type": "markdown",
      "source": [
        "2. Now run this experiment 1000 times. Plot a histogram of the 1000 ${N}_{head}$ values from these 1000 experiments. What distribution does the histogram look like?"
      ],
      "metadata": {
        "id": "_8lCoJqgVyhp"
      }
    },
    {
      "cell_type": "code",
      "source": [
        "p_H = 0.5\n",
        "p_T = 0.5\n",
        "N = 200\n",
        "\n",
        "head_50 = []\n",
        "\n",
        "for j in range(1000):\n",
        "    heads = 0\n",
        "    for i in range(N):\n",
        "        x = np.random.rand(1)\n",
        "        if x<= p_H:\n",
        "            heads = heads + 1\n",
        "    head_50.append(heads)\n",
        "print(head_50)\n",
        "plt.hist(head_50,bins=42)\n",
        "#binomial distribution model\n",
        "mean_binomial = N*p_H\n",
        "std_bionomial = np.sqrt(N*p_H*(1-p_H))\n",
        "print(\"mean_binomial:\", mean_binomial,\"std_bionomial:\", std_bionomial)"
      ],
      "metadata": {
        "id": "Ya4RG4-lUZhA",
        "colab": {
          "base_uri": "https://localhost:8080/",
          "height": 321
        },
        "outputId": "6b30f6e7-702d-4d45-f338-e205c0f05ac9"
      },
      "execution_count": null,
      "outputs": [
        {
          "output_type": "stream",
          "name": "stdout",
          "text": [
            "[104, 101, 100, 107, 114, 93, 104, 91, 98, 113, 105, 110, 96, 105, 95, 105, 101, 104, 95, 98, 102, 91, 92, 101, 85, 103, 107, 105, 87, 99, 102, 103, 111, 93, 105, 93, 98, 107, 89, 103, 102, 102, 96, 98, 90, 92, 107, 97, 89, 94, 97, 98, 100, 104, 110, 112, 113, 97, 88, 101, 97, 98, 97, 114, 89, 90, 97, 99, 110, 92, 100, 94, 99, 96, 95, 94, 105, 79, 94, 88, 94, 104, 115, 102, 110, 104, 108, 87, 97, 99, 99, 100, 105, 113, 96, 105, 99, 113, 84, 101, 105, 109, 99, 96, 111, 94, 106, 111, 107, 104, 99, 109, 104, 105, 106, 101, 95, 110, 111, 96, 112, 111, 98, 102, 96, 100, 115, 95, 99, 88, 94, 102, 93, 91, 82, 89, 109, 92, 89, 78, 91, 103, 96, 102, 112, 91, 123, 100, 107, 97, 99, 97, 107, 92, 92, 102, 102, 100, 90, 86, 99, 104, 101, 96, 110, 108, 109, 95, 88, 103, 103, 96, 103, 107, 101, 98, 103, 91, 100, 105, 99, 97, 101, 91, 93, 105, 94, 108, 102, 106, 103, 98, 99, 91, 105, 95, 96, 95, 98, 116, 104, 98, 99, 93, 110, 90, 104, 92, 92, 94, 107, 105, 95, 98, 101, 97, 105, 93, 100, 113, 106, 91, 110, 96, 95, 104, 98, 91, 104, 118, 92, 98, 100, 102, 106, 108, 91, 99, 108, 106, 104, 89, 97, 113, 96, 97, 106, 118, 103, 104, 104, 95, 91, 106, 100, 107, 98, 111, 99, 103, 96, 109, 96, 100, 103, 101, 99, 99, 102, 102, 98, 107, 103, 97, 97, 103, 96, 101, 92, 89, 100, 103, 94, 110, 99, 109, 96, 105, 111, 111, 108, 93, 90, 102, 97, 98, 99, 106, 103, 111, 99, 103, 105, 103, 97, 95, 104, 107, 105, 102, 106, 113, 101, 99, 101, 90, 89, 99, 96, 107, 115, 100, 108, 97, 112, 97, 110, 89, 109, 96, 89, 100, 113, 94, 93, 86, 105, 103, 103, 99, 101, 96, 96, 99, 113, 97, 101, 108, 116, 101, 87, 103, 105, 102, 105, 107, 93, 103, 97, 82, 103, 91, 112, 108, 102, 118, 98, 103, 100, 95, 94, 106, 112, 89, 97, 100, 92, 92, 100, 99, 92, 92, 100, 105, 95, 92, 104, 111, 104, 94, 93, 105, 108, 112, 95, 95, 102, 91, 94, 99, 118, 100, 101, 109, 96, 91, 101, 94, 108, 93, 95, 99, 110, 98, 106, 97, 104, 110, 99, 105, 95, 93, 98, 101, 111, 106, 103, 104, 106, 97, 96, 86, 103, 107, 96, 97, 97, 90, 102, 103, 95, 99, 97, 107, 94, 111, 94, 97, 96, 97, 112, 97, 89, 85, 111, 91, 85, 91, 90, 99, 91, 91, 102, 98, 91, 110, 92, 99, 107, 97, 90, 104, 108, 99, 99, 93, 100, 91, 83, 107, 95, 107, 97, 104, 105, 94, 114, 109, 99, 103, 104, 89, 98, 101, 100, 105, 97, 107, 104, 113, 99, 96, 109, 91, 100, 106, 95, 88, 92, 108, 106, 106, 89, 98, 112, 107, 102, 96, 106, 111, 94, 97, 102, 95, 102, 101, 95, 96, 101, 100, 108, 109, 87, 108, 95, 105, 97, 96, 117, 93, 104, 102, 110, 106, 88, 98, 99, 110, 105, 87, 104, 110, 99, 93, 98, 82, 103, 99, 105, 105, 94, 109, 100, 107, 104, 94, 111, 104, 102, 95, 102, 102, 116, 101, 107, 101, 94, 110, 94, 110, 103, 92, 97, 96, 99, 91, 98, 94, 93, 89, 96, 86, 112, 109, 106, 89, 103, 101, 106, 99, 98, 100, 98, 102, 88, 90, 96, 96, 105, 99, 97, 94, 108, 96, 95, 98, 93, 100, 99, 94, 102, 92, 100, 101, 90, 90, 108, 108, 103, 104, 93, 96, 108, 92, 109, 103, 107, 101, 92, 108, 107, 85, 101, 95, 111, 115, 109, 96, 106, 96, 101, 98, 111, 104, 97, 98, 88, 100, 98, 101, 101, 103, 97, 86, 113, 100, 113, 130, 98, 108, 93, 86, 95, 94, 108, 100, 120, 100, 93, 97, 93, 99, 98, 94, 110, 98, 106, 96, 97, 97, 99, 96, 93, 92, 107, 94, 116, 102, 97, 95, 96, 95, 103, 112, 93, 104, 91, 98, 107, 88, 115, 105, 96, 110, 96, 99, 93, 98, 100, 95, 104, 116, 101, 99, 95, 92, 106, 98, 93, 94, 94, 109, 92, 96, 98, 100, 99, 109, 113, 107, 77, 100, 104, 104, 95, 89, 99, 106, 90, 115, 112, 111, 97, 97, 95, 92, 97, 96, 103, 97, 112, 108, 93, 103, 86, 97, 97, 99, 106, 106, 103, 85, 105, 102, 92, 92, 87, 93, 111, 105, 89, 83, 99, 94, 108, 111, 96, 95, 101, 94, 108, 97, 95, 101, 102, 106, 103, 95, 97, 100, 87, 105, 92, 89, 101, 90, 98, 98, 108, 106, 98, 92, 107, 93, 96, 99, 105, 105, 100, 97, 102, 104, 94, 107, 111, 97, 112, 105, 92, 90, 109, 107, 96, 99, 98, 89, 111, 102, 107, 100, 109, 104, 95, 96, 104, 92, 101, 98, 93, 100, 103, 90, 95, 98, 109, 99, 105, 93, 104, 99, 101, 107, 107, 89, 92, 91, 98, 102, 100, 106, 111, 98, 99, 95, 101, 103, 93, 109, 101, 100, 96, 88, 101, 103, 86, 94, 97, 92, 92, 104, 110, 110, 96, 81, 91, 99, 94, 109, 102, 97, 104, 91, 105, 99, 92, 106, 101, 90, 98, 111, 119, 108, 97, 109, 108, 98, 104, 93, 104, 104, 103, 104, 99, 100, 93, 109, 104, 109, 102, 98, 92, 99, 106, 92, 86, 102, 98, 102, 86, 108, 108, 116, 97, 95, 101, 97, 96, 93, 104, 106, 95, 92, 100, 99, 93, 108, 106, 110, 106, 107, 89, 96, 90, 99, 98, 100, 103, 109, 100, 103, 110, 100, 87, 107, 97, 98, 107, 100, 102, 91, 100, 103, 93, 94, 110, 105, 101, 101, 99, 101, 96, 89, 101, 97, 103, 114, 106, 92, 100, 104]\n",
            "mean_binomial: 100.0 std_bionomial: 7.0710678118654755\n"
          ]
        },
        {
          "output_type": "display_data",
          "data": {
            "text/plain": [
              "<Figure size 432x288 with 1 Axes>"
            ],
            "image/png": "[encoded data removed]"
          },
          "metadata": {
            "needs_background": "light"
          }
        }
      ]
    },
    {
      "cell_type": "markdown",
      "source": [
        "3. What is the mean and standard deviation of these 1000 numbers? Does it match the predicted mean and standard deviation using formulae for the Binomial distribution?"
      ],
      "metadata": {
        "id": "34hikeR0V-0_"
      }
    },
    {
      "cell_type": "code",
      "source": [
        "mean = np.mean(head_50)\n",
        "std = np.std(head_50)\n",
        "print(\"mean:\",mean,\"std:\", std)"
      ],
      "metadata": {
        "id": "A2RpiPpQWE2X",
        "colab": {
          "base_uri": "https://localhost:8080/"
        },
        "outputId": "82cc03c3-6f0f-4fa7-ecf5-f65c3b149238"
      },
      "execution_count": null,
      "outputs": [
        {
          "output_type": "stream",
          "name": "stdout",
          "text": [
            "mean: 100.276 std: 7.1568026380500385\n"
          ]
        }
      ]
    },
    {
      "cell_type": "markdown",
      "source": [
        "4. Now, think about a coin for which the probability of a head is 0.1%. You toss the coin ${N}_{trial} = 100,000 $  times for one experiment. If you repeat the experiment 1000 times, what does the distribution look like? Take the mean and standard deviations of the 1000 ${N}_{Head}$ values. Do they match the predicted mean and standard deviation of the Poisson distribution?\n"
      ],
      "metadata": {
        "id": "QXzz5Rp0WFkm"
      }
    },
    {
      "cell_type": "code",
      "source": [
        "p_H_new = 0.001\n",
        "N = 100000\n",
        "\n",
        "head_point1 = []\n",
        "\n",
        "for j in range(1000):\n",
        "    heads = 0\n",
        "    for i in range(N):\n",
        "        x = np.random.rand(1)\n",
        "        if x<= p_H_new:\n",
        "            heads = heads + 1\n",
        "    head_point1.append(heads)\n",
        "print(head_point1)\n",
        "plt.hist(head_point1,bins=42)"
      ],
      "metadata": {
        "id": "xlGlPp88WceW",
        "colab": {
          "base_uri": "https://localhost:8080/",
          "height": 375
        },
        "outputId": "e99f99b3-e168-4d5f-f993-67d4fcbeb6ea"
      },
      "execution_count": null,
      "outputs": [
        {
          "output_type": "stream",
          "name": "stdout",
          "text": [
            "[89, 85, 114, 93, 95, 90, 102, 96, 108, 98, 112, 95, 107, 92, 115, 110, 110, 82, 117, 104, 97, 99, 104, 87, 105, 98, 113, 86, 100, 93, 98, 106, 94, 90, 108, 100, 95, 97, 100, 95, 102, 103, 101, 104, 106, 110, 91, 112, 110, 96, 101, 107, 87, 90, 95, 96, 99, 93, 103, 100, 102, 96, 98, 106, 98, 93, 95, 108, 103, 89, 97, 102, 91, 92, 101, 107, 94, 91, 96, 81, 107, 115, 94, 95, 99, 113, 103, 111, 99, 105, 82, 94, 104, 102, 97, 85, 93, 86, 87, 103, 104, 112, 89, 102, 96, 99, 97, 95, 101, 93, 119, 91, 103, 102, 97, 102, 108, 94, 111, 100, 99, 99, 103, 106, 108, 79, 110, 99, 102, 99, 112, 96, 98, 87, 109, 126, 104, 122, 101, 87, 97, 87, 109, 95, 112, 103, 93, 118, 105, 97, 95, 82, 118, 114, 103, 101, 120, 104, 96, 103, 98, 117, 114, 81, 102, 103, 110, 108, 96, 99, 109, 108, 108, 104, 90, 101, 89, 106, 90, 94, 95, 102, 102, 106, 99, 102, 115, 96, 105, 100, 96, 92, 112, 114, 100, 91, 112, 88, 103, 88, 122, 81, 118, 109, 100, 102, 82, 108, 113, 114, 92, 116, 86, 95, 94, 98, 88, 96, 97, 118, 93, 92, 102, 101, 119, 100, 106, 102, 103, 99, 89, 112, 85, 107, 104, 100, 96, 92, 91, 97, 91, 119, 92, 99, 86, 78, 104, 104, 102, 105, 96, 98, 111, 103, 106, 107, 91, 103, 93, 106, 87, 119, 97, 109, 88, 99, 86, 101, 95, 85, 100, 102, 94, 99, 97, 78, 95, 98, 100, 79, 90, 126, 113, 92, 125, 98, 110, 98, 97, 95, 99, 91, 105, 93, 98, 95, 91, 91, 97, 104, 99, 96, 110, 121, 110, 105, 106, 91, 100, 112, 98, 127, 91, 106, 107, 93, 94, 92, 90, 109, 99, 90, 113, 100, 86, 126, 108, 108, 112, 104, 101, 103, 105, 84, 99, 106, 99, 100, 102, 93, 116, 103, 97, 83, 94, 92, 102, 93, 100, 106, 83, 94, 113, 102, 102, 109, 106, 106, 110, 102, 110, 97, 103, 98, 108, 91, 88, 103, 102, 94, 92, 98, 103, 105, 106, 90, 94, 93, 114, 100, 98, 105, 104, 117, 92, 94, 108, 92, 107, 103, 93, 105, 97, 103, 111, 88, 100, 120, 110, 111, 102, 102, 82, 97, 88, 121, 82, 91, 96, 94, 99, 102, 105, 105, 86, 105, 98, 115, 96, 106, 101, 98, 102, 95, 96, 103, 120, 131, 106, 99, 108, 97, 114, 100, 99, 94, 86, 89, 70, 91, 106, 104, 120, 112, 106, 91, 90, 96, 102, 106, 106, 101, 96, 124, 120, 85, 105, 94, 81, 120, 97, 97, 101, 113, 102, 89, 113, 103, 117, 105, 111, 96, 98, 95, 91, 95, 107, 100, 80, 108, 95, 84, 88, 83, 107, 95, 93, 96, 106, 106, 95, 108, 93, 73, 84, 108, 98, 107, 87, 99, 104, 101, 101, 120, 108, 101, 113, 94, 93, 116, 98, 90, 91, 103, 100, 94, 98, 91, 108, 93, 111, 98, 128, 94, 106, 112, 100, 95, 118, 96, 105, 111, 109, 103, 93, 94, 107, 98, 102, 105, 125, 95, 107, 96, 92, 88, 91, 113, 103, 114, 102, 103, 110, 103, 111, 104, 103, 96, 99, 85, 100, 98, 90, 98, 83, 104, 107, 116, 102, 104, 111, 88, 96, 111, 119, 101, 91, 115, 94, 84, 90, 98, 105, 91, 81, 114, 100, 102, 102, 104, 111, 105, 113, 105, 105, 88, 90, 99, 110, 103, 99, 98, 109, 118, 96, 126, 105, 85, 109, 103, 92, 123, 95, 101, 96, 114, 90, 96, 88, 81, 111, 86, 84, 99, 98, 100, 97, 105, 104, 106, 98, 99, 94, 98, 99, 85, 97, 86, 127, 83, 108, 103, 89, 99, 102, 109, 95, 94, 98, 87, 124, 85, 99, 93, 115, 76, 108, 91, 121, 111, 107, 108, 100, 109, 112, 114, 106, 103, 97, 102, 122, 123, 109, 101, 107, 106, 117, 103, 95, 93, 93, 96, 119, 89, 109, 99, 106, 101, 87, 95, 94, 110, 97, 117, 97, 104, 127, 98, 93, 98, 82, 94, 94, 86, 94, 90, 89, 101, 97, 93, 99, 128, 103, 104, 102, 96, 90, 111, 109, 99, 90, 105, 105, 89, 99, 105, 97, 101, 94, 110, 96, 89, 105, 96, 114, 103, 105, 101, 97, 105, 107, 87, 101, 106, 88, 107, 102, 88, 97, 91, 106, 90, 99, 99, 101, 92, 102, 88, 92, 95, 113, 92, 102, 117, 106, 112, 95, 108, 111, 105, 88, 102, 97, 94, 106, 99, 94, 91, 113, 91, 109, 110, 97, 111, 101, 96, 94, 109, 94, 89, 120, 103, 108, 97, 91, 93, 99, 98, 84, 116, 97, 105, 93, 114, 113, 88, 104, 91, 103, 97, 115, 97, 103, 100, 97, 91, 90, 93, 104, 97, 106, 108, 115, 104, 86, 102, 94, 89, 108, 100, 106, 100, 85, 93, 91, 93, 100, 110, 92, 103, 117, 103, 109, 109, 92, 107, 100, 100, 97, 108, 95, 110, 91, 98, 101, 99, 99, 105, 101, 115, 96, 98, 96, 112, 115, 97, 105, 102, 93, 101, 93, 101, 111, 105, 88, 99, 92, 110, 94, 92, 92, 95, 126, 115, 93, 122, 88, 98, 98, 99, 96, 109, 95, 86, 86, 93, 95, 92, 98, 93, 90, 112, 85, 92, 93, 101, 108, 94, 103, 72, 102, 96, 101, 89, 107, 95, 100, 119, 115, 99, 82, 82, 100, 92, 111, 68, 104, 112, 115, 99, 125, 91, 99, 87, 85, 98, 97, 93, 105, 105, 100, 118, 107, 91, 116, 99, 111, 113, 92, 96, 104, 110, 103, 99, 114, 103, 95, 95, 102, 113, 110, 91, 103, 110, 90, 102, 96, 103, 103, 102, 97, 100, 112, 108, 93, 85, 112, 92, 96, 103, 81, 102, 95, 97, 101, 79, 95, 98, 88, 89, 89, 107, 95, 96, 96, 96, 98, 103, 91, 81]\n"
          ]
        },
        {
          "output_type": "execute_result",
          "data": {
            "text/plain": [
              "(array([  4.,   7.,  55., 173., 256., 233., 168.,  64.,  26.,  14.]),\n",
              " array([ 68. ,  74.3,  80.6,  86.9,  93.2,  99.5, 105.8, 112.1, 118.4,\n",
              "        124.7, 131. ]),\n",
              " <a list of 10 Patch objects>)"
            ]
          },
          "metadata": {},
          "execution_count": 5
        },
        {
          "output_type": "display_data",
          "data": {
            "text/plain": [
              "<Figure size 432x288 with 1 Axes>"
            ],
            "image/png": "[encoded data removed]"
          },
          "metadata": {
            "needs_background": "light"
          }
        }
      ]
    },
    {
      "cell_type": "code",
      "source": [
        "\n",
        "mean = np.mean(head_point1)\n",
        "std = np.std(head_point1)\n",
        "print(\"mean:\",mean,\"std:\", std)\n",
        "mean_poisson = N*p_H_new\n",
        "std_poisson = np.sqrt(N*p_H_new)\n",
        "print(\"mean_poisson:\", mean_poisson,\"std_poisson:\", std_poisson)"
      ],
      "metadata": {
        "colab": {
          "base_uri": "https://localhost:8080/"
        },
        "id": "yIOb5upa-LbI",
        "outputId": "0af9f3ad-6dc5-4396-a01c-156a79f1467c"
      },
      "execution_count": null,
      "outputs": [
        {
          "output_type": "stream",
          "name": "stdout",
          "text": [
            "mean: 100.271 std: 9.560834639297973\n",
            "mean_poisson: 100.0 std_poisson: 10.0\n"
          ]
        }
      ]
    },
    {
      "cell_type": "markdown",
      "source": [
        "5. Think about the average probability for one resident in Dhaka city to visit the Star Kabab restaurant between 7-8pm. The average probability is not zero. Otherwise, the restaurant won’t have any customers, but we know that they do have customers every day at that time. The number of customers between 7-8pm for different days will be different random numbers. If you collect 50 of these numbers from 50 different days, what distribution would these numbers follow?\n"
      ],
      "metadata": {
        "id": "9MQgBYsdWi2C"
      }
    },
    {
      "cell_type": "code",
      "source": [
        "# Poissonian"
      ],
      "metadata": {
        "id": "Vk21BnFKWl9u"
      },
      "execution_count": null,
      "outputs": []
    },
    {
      "cell_type": "markdown",
      "source": [
        "6. If you have counted the number of customers between 7-8pm to be 100 today, what is the expected number and uncertainty for tomorrow 7-8pm?"
      ],
      "metadata": {
        "id": "D47K9YiiWmxa"
      }
    },
    {
      "cell_type": "code",
      "source": [
        "100+/- 10 (sqrt(100))"
      ],
      "metadata": {
        "id": "Zu40dH2EWrZQ",
        "colab": {
          "base_uri": "https://localhost:8080/",
          "height": 133
        },
        "outputId": "6698235f-e32c-4a68-9da0-306c09ea188c"
      },
      "execution_count": 1,
      "outputs": [
        {
          "output_type": "error",
          "ename": "SyntaxError",
          "evalue": "ignored",
          "traceback": [
            "\u001b[0;36m  File \u001b[0;32m\"<ipython-input-1-7c9c79d9e4cb>\"\u001b[0;36m, line \u001b[0;32m1\u001b[0m\n\u001b[0;31m    100+/- 10 (sqrt(100))\u001b[0m\n\u001b[0m        ^\u001b[0m\n\u001b[0;31mSyntaxError\u001b[0m\u001b[0;31m:\u001b[0m invalid syntax\n"
          ]
        }
      ]
    },
    {
      "cell_type": "markdown",
      "source": [
        "7. Try to understand these terms as much as possible, if not already: \n",
        "- Bayes’ theorem, \n",
        "- likelihood function, \n",
        "- prior probability distribution, and \n",
        "- posterior probability distribution."
      ],
      "metadata": {
        "id": "bKWzaMYaWwHq"
      }
    },
    {
      "cell_type": "code",
      "source": [],
      "metadata": {
        "id": "TerkFXX-W2E1"
      },
      "execution_count": null,
      "outputs": []
    },
    {
      "cell_type": "markdown",
      "source": [
        "8. (Optional): Read about PEP8: https://peps.python.org/pep-0008/ . This is the official recommendation on how to write Python code, and this is very helpful when code is shared between collaborators."
      ],
      "metadata": {
        "id": "hD-ZN1S7W212"
      }
    }
  ]
}